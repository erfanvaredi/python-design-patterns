{
 "cells": [
  {
   "attachments": {},
   "cell_type": "markdown",
   "metadata": {},
   "source": [
    "## Init Base Class"
   ]
  },
  {
   "cell_type": "code",
   "execution_count": 11,
   "metadata": {},
   "outputs": [],
   "source": [
    "class CarBaseModel:\n",
    "\n",
    "    def __init__(self, name:str, manufactory:str, body_type:str, engine_cylinders:int, engine_cc:int) -> None:\n",
    "        self.__name=name\n",
    "        self.__manufactory=manufactory\n",
    "        self.__body_type=body_type\n",
    "        self.__engine_cylinders=engine_cylinders\n",
    "        self.__engine_cc=engine_cc\n",
    "\n",
    "    def get_manufactory(self):\n",
    "        return self.__manufactory\n",
    "    \n",
    "    def get_name(self):\n",
    "        return self.__name\n",
    "    \n",
    "    def get_body_type(self):\n",
    "        return self.__body_type\n",
    "\n",
    "    def get_engine_cylinders(self):\n",
    "        return self.__engine_cylinders\n",
    "\n",
    "    def get_engine_cc(self):\n",
    "        return self.__engine_cc\n",
    "\n",
    "    def __str__(self) -> str:\n",
    "        return f'{self.__name} by {self.__manufactory}: body type is {self.__body_type}, engine: v{self.__engine_cylinders}@{self.__engine_cc}cc'\n"
   ]
  },
  {
   "attachments": {},
   "cell_type": "markdown",
   "metadata": {},
   "source": [
    "## Define Custom Classes"
   ]
  },
  {
   "cell_type": "code",
   "execution_count": 12,
   "metadata": {},
   "outputs": [],
   "source": [
    "class G63AMG(CarBaseModel):\n",
    "    def __init__(self):\n",
    "        super().__init__(name='G 63 AMG', manufactory='mercedes-benz', body_type='suv', engine_cylinders='8', engine_cc='4000')\n",
    "\n",
    "class Escalade(CarBaseModel):\n",
    "    def __init__(self):\n",
    "        super().__init__(name='Escalade', manufactory='cadillac', body_type='suv', engine_cylinders='8', engine_cc='6200')\n",
    "\n",
    "class HennesseyVenom(CarBaseModel):\n",
    "    def __init__(self):\n",
    "        super().__init__(name='Hennessey Venom F5', manufactory='Venom GT', body_type='super sport', engine_cylinders='8', engine_cc='6600')\n",
    "\n",
    "class Huracan(CarBaseModel):\n",
    "    def __init__(self):\n",
    "        super().__init__(name='huracan', manufactory='Lamborghini', body_type='super sport', engine_cylinders='10', engine_cc='5200')"
   ]
  },
  {
   "attachments": {},
   "cell_type": "markdown",
   "metadata": {},
   "source": [
    "## Abstract Factory Class"
   ]
  },
  {
   "cell_type": "code",
   "execution_count": 13,
   "metadata": {},
   "outputs": [],
   "source": [
    "# Define interface (you can skip this but i love it from Java :) )\n",
    "class IFactory:\n",
    "   def getSportCar(self)->CarBaseModel: pass\n",
    "   def getFamilyCar(self)->CarBaseModel: pass"
   ]
  },
  {
   "cell_type": "code",
   "execution_count": 14,
   "metadata": {},
   "outputs": [],
   "source": [
    "class CarStoreAFactory(IFactory):\n",
    "    def getFamilyCar(self) -> CarBaseModel:\n",
    "        return G63AMG()\n",
    "\n",
    "    def getSportCar(self) -> CarBaseModel:\n",
    "        return HennesseyVenom()\n",
    "\n",
    "\n",
    "class CarStoreBFactory(IFactory):\n",
    "    def getFamilyCar(self) -> CarBaseModel:\n",
    "        return Escalade()\n",
    "    \n",
    "    def getSportCar(self) -> CarBaseModel:\n",
    "        return Huracan()"
   ]
  },
  {
   "attachments": {},
   "cell_type": "markdown",
   "metadata": {},
   "source": [
    "## Run The Code"
   ]
  },
  {
   "cell_type": "code",
   "execution_count": 15,
   "metadata": {},
   "outputs": [
    {
     "name": "stdout",
     "output_type": "stream",
     "text": [
      "Family car available in the store A is G 63 AMG by mercedes-benz: body type is suv, engine: v8@4000cc\n",
      "Sport car available in the store A is Hennessey Venom F5 by Venom GT: body type is super sport, engine: v8@6600cc\n"
     ]
    }
   ],
   "source": [
    "selected_store = 'A'\n",
    "\n",
    "factory = CarStoreAFactory() if selected_store == 'A' else CarStoreBFactory()\n",
    "\n",
    "print(f'Family car available in the store {selected_store} is {factory.getFamilyCar()}')\n",
    "print(f'Sport car available in the store {selected_store} is {factory.getSportCar()}')"
   ]
  }
 ],
 "metadata": {
  "kernelspec": {
   "display_name": "erfan-lab",
   "language": "python",
   "name": "python3"
  },
  "language_info": {
   "codemirror_mode": {
    "name": "ipython",
    "version": 3
   },
   "file_extension": ".py",
   "mimetype": "text/x-python",
   "name": "python",
   "nbconvert_exporter": "python",
   "pygments_lexer": "ipython3",
   "version": "3.9.15"
  },
  "orig_nbformat": 4,
  "vscode": {
   "interpreter": {
    "hash": "56d4425fbebcd35bc374cc159d14c929230834d8c1a7594fd4b19337a0d834f1"
   }
  }
 },
 "nbformat": 4,
 "nbformat_minor": 2
}

{
 "cells": [
  {
   "attachments": {},
   "cell_type": "markdown",
   "metadata": {},
   "source": [
    "## Import libs"
   ]
  },
  {
   "cell_type": "code",
   "execution_count": 7,
   "metadata": {},
   "outputs": [],
   "source": [
    "from pydantic import BaseModel\n",
    "from datetime import datetime"
   ]
  },
  {
   "attachments": {},
   "cell_type": "markdown",
   "metadata": {},
   "source": [
    "## Objects"
   ]
  },
  {
   "attachments": {},
   "cell_type": "markdown",
   "metadata": {},
   "source": [
    "### The Main Object That We Wanna Interact With"
   ]
  },
  {
   "cell_type": "code",
   "execution_count": 8,
   "metadata": {},
   "outputs": [],
   "source": [
    "class Object:\n",
    "    id:int=None\n",
    "    name:str=None\n",
    "    version:str=None\n",
    "    date:datetime=None\n",
    "\n",
    "    # Customized the way of showing the object's attrs\n",
    "    def __str__(self) -> str:\n",
    "        return f'{self.id} # {self.name} # {self.version} @ {self.date.isoformat()}'"
   ]
  },
  {
   "attachments": {},
   "cell_type": "markdown",
   "metadata": {},
   "source": [
    "### Base Object Builder Class"
   ]
  },
  {
   "cell_type": "code",
   "execution_count": 9,
   "metadata": {},
   "outputs": [],
   "source": [
    "class Builder:\n",
    "\n",
    "    # Initiating the object we want to interact with\n",
    "    def __init__(self) -> None:\n",
    "        self.obj = None\n",
    "        pass\n",
    "\n",
    "    # It initializes the base object that can be used in the classes inheriting Builder class\n",
    "    def build_object(self):\n",
    "        self.obj = Object()\n"
   ]
  },
  {
   "attachments": {},
   "cell_type": "markdown",
   "metadata": {},
   "source": [
    "### Customized Object Builders"
   ]
  },
  {
   "cell_type": "code",
   "execution_count": 10,
   "metadata": {},
   "outputs": [],
   "source": [
    "# Builder for class A: A is an Object(the class we defined) with specifics attrs\n",
    "class AObjectBuilder(Builder):\n",
    "    def fill_object(self):\n",
    "        self.obj.id = 123\n",
    "        self.obj.name = 'A-Object'\n",
    "        self.obj.version = 'v0.0.2'\n",
    "        self.obj.date = datetime.utcnow()\n",
    "\n",
    "# Builder for class C: A is an Object(the class we defined) with specifics attrs\n",
    "class CObjectBuilder(Builder):\n",
    "    def fill_object(self):\n",
    "        self.obj.id = 320\n",
    "        self.obj.name = 'C-Object'\n",
    "        self.obj.version = 'v0.1.2'\n",
    "        self.obj.date = datetime.utcnow()"
   ]
  },
  {
   "attachments": {},
   "cell_type": "markdown",
   "metadata": {},
   "source": [
    "## Director Class"
   ]
  },
  {
   "cell_type": "code",
   "execution_count": 11,
   "metadata": {},
   "outputs": [],
   "source": [
    "\n",
    "class Director:\n",
    "\n",
    "    # Its like a movie, and builders are people working for the director :)\n",
    "    def __init__(self, builder:Builder) -> None:\n",
    "        self.__builder = builder\n",
    "        self.__builder.build_object()\n",
    "        self.__builder.fill_object()\n",
    "\n",
    "    # get built object\n",
    "    def get_object(self):\n",
    "        return self.__builder.obj"
   ]
  },
  {
   "attachments": {},
   "cell_type": "markdown",
   "metadata": {},
   "source": [
    "## Run The Code"
   ]
  },
  {
   "cell_type": "code",
   "execution_count": 12,
   "metadata": {},
   "outputs": [
    {
     "name": "stdout",
     "output_type": "stream",
     "text": [
      "123 # A-Object # v0.0.2 @ 2023-01-01T15:30:14.865856\n",
      "320 # C-Object # v0.1.2 @ 2023-01-01T15:30:14.865914\n"
     ]
    }
   ],
   "source": [
    "# Create for object A\n",
    "builder_A = AObjectBuilder()\n",
    "director_A = Director(builder=builder_A)\n",
    "print(director_A.get_object())\n",
    "\n",
    "# Create for object C\n",
    "builder_C = CObjectBuilder()\n",
    "director_C = Director(builder=builder_C)\n",
    "print(director_C.get_object())"
   ]
  }
 ],
 "metadata": {
  "kernelspec": {
   "display_name": "erfan-lab",
   "language": "python",
   "name": "python3"
  },
  "language_info": {
   "codemirror_mode": {
    "name": "ipython",
    "version": 3
   },
   "file_extension": ".py",
   "mimetype": "text/x-python",
   "name": "python",
   "nbconvert_exporter": "python",
   "pygments_lexer": "ipython3",
   "version": "3.9.15"
  },
  "orig_nbformat": 4,
  "vscode": {
   "interpreter": {
    "hash": "56d4425fbebcd35bc374cc159d14c929230834d8c1a7594fd4b19337a0d834f1"
   }
  }
 },
 "nbformat": 4,
 "nbformat_minor": 2
}

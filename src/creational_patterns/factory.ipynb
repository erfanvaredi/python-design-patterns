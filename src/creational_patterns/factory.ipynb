{
 "cells": [
  {
   "attachments": {},
   "cell_type": "markdown",
   "metadata": {},
   "source": [
    "## Objects"
   ]
  },
  {
   "cell_type": "code",
   "execution_count": 13,
   "metadata": {},
   "outputs": [],
   "source": [
    "class ClassificationModel:\n",
    "\n",
    "\t\"\"\"A simple binary classification model class\"\"\"\n",
    "\n",
    "\tdef __init__(self, model_name:str='cls'):\n",
    "\t\tself.__model_name = model_name\n",
    "\n",
    "\tdef predict(self, test_instance:int)->bool:\n",
    "\t\t\"\"\"binary classification, if the number is odd returns false else returns true\n",
    "\n",
    "\t\tArgs:\n",
    "\t\t\ttest_instance (int): the input number\n",
    "\n",
    "\t\tReturns:\n",
    "\t\t\tbool: if the number is odd returns false else returns true\n",
    "\t\t\"\"\"\n",
    "\t\treturn test_instance % 2 == 0\n",
    "\n",
    "class RegressionModel:\n",
    "\n",
    "\t\"\"\"A simple regression model class\"\"\"\n",
    "\n",
    "\tdef __init__(self, model_name:str='reg'):\n",
    "\t\tself.__model_name = model_name\n",
    "\n",
    "\tdef predict(self, test_instance:float)->float:\n",
    "\t\t\"\"\"Prediction for regression, lets say the model is:\n",
    "\t\t   wx + 1.5 and w==2.5\n",
    "\n",
    "        Args:\n",
    "            test_instance (float): the input number\n",
    "\n",
    "        Returns:\n",
    "            float: the output of the model based on the input number\n",
    "        \"\"\"\n",
    "\t\treturn 2.5*test_instance + 1.5\n"
   ]
  },
  {
   "attachments": {},
   "cell_type": "markdown",
   "metadata": {},
   "source": [
    "## Factory Method"
   ]
  },
  {
   "cell_type": "code",
   "execution_count": 14,
   "metadata": {},
   "outputs": [],
   "source": [
    "def get_model(ML_model=\"classification\"):\n",
    "\n",
    "\tml_models = dict(classification=ClassificationModel(), regression=RegressionModel())\n",
    "\n",
    "\treturn ml_models[ML_model]"
   ]
  },
  {
   "attachments": {},
   "cell_type": "markdown",
   "metadata": {},
   "source": [
    "## Run The Code"
   ]
  },
  {
   "cell_type": "code",
   "execution_count": 15,
   "metadata": {},
   "outputs": [
    {
     "name": "stdout",
     "output_type": "stream",
     "text": [
      "prediction of the model(regression) for 3.2 is: 9.5\n",
      "prediction of the model(classification) for 24 is: True\n"
     ]
    }
   ],
   "source": [
    "model_regression = get_model(ML_model=\"regression\")\n",
    "regression_test_instance = 3.2\n",
    "print(f'prediction of the model(regression) for {regression_test_instance} is: {model_regression.predict(regression_test_instance)}')\n",
    "\n",
    "model_classification = get_model(ML_model=\"classification\")\n",
    "classification_test_instance = 24\n",
    "print(f'prediction of the model(classification) for {classification_test_instance} is: {model_classification.predict(classification_test_instance)}')"
   ]
  }
 ],
 "metadata": {
  "kernelspec": {
   "display_name": "erfan-lab",
   "language": "python",
   "name": "python3"
  },
  "language_info": {
   "codemirror_mode": {
    "name": "ipython",
    "version": 3
   },
   "file_extension": ".py",
   "mimetype": "text/x-python",
   "name": "python",
   "nbconvert_exporter": "python",
   "pygments_lexer": "ipython3",
   "version": "3.9.15"
  },
  "orig_nbformat": 4,
  "vscode": {
   "interpreter": {
    "hash": "56d4425fbebcd35bc374cc159d14c929230834d8c1a7594fd4b19337a0d834f1"
   }
  }
 },
 "nbformat": 4,
 "nbformat_minor": 2
}

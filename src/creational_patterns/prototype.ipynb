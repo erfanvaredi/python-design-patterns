{
 "cells": [
  {
   "cell_type": "code",
   "execution_count": 21,
   "metadata": {},
   "outputs": [],
   "source": [
    "from copy import deepcopy"
   ]
  },
  {
   "attachments": {},
   "cell_type": "markdown",
   "metadata": {},
   "source": [
    "### Create Your Prototype Class"
   ]
  },
  {
   "cell_type": "code",
   "execution_count": 22,
   "metadata": {},
   "outputs": [],
   "source": [
    "class Prototype:\n",
    "\n",
    "    def __init__(self):\n",
    "\n",
    "        # You can also use list, it doesn't matter\n",
    "        self.__objects = {}\n",
    "\n",
    "    def add_object(self, key, object):\n",
    "        self.__objects[key] = object\n",
    "    \n",
    "    def remove_object(self, key):\n",
    "        if key in self.__objects.keys():\n",
    "            del self.__objects[key]\n",
    "    \n",
    "    def get_clone(self, key, **additional_attributes):\n",
    "        res = None\n",
    "        if key in self.__objects.keys():\n",
    "            res = self.__objects.get(key)\n",
    "            res.__dict__.update(additional_attributes)\n",
    "        \n",
    "        return res"
   ]
  },
  {
   "attachments": {},
   "cell_type": "markdown",
   "metadata": {},
   "source": [
    "## Base Class"
   ]
  },
  {
   "cell_type": "code",
   "execution_count": 23,
   "metadata": {},
   "outputs": [],
   "source": [
    "class CarBaseModel:\n",
    "\n",
    "    def __init__(self, name:str, manufactory:str):\n",
    "        self.__name=name\n",
    "        self.__manufactory=manufactory\n",
    "\n",
    "    def get_manufactory(self):\n",
    "        return self.__manufactory\n",
    "    \n",
    "    def get_name(self):\n",
    "        return self.__name\n",
    "\n",
    "    def get_key(self):\n",
    "        return f'{self.__manufactory}#{self.__name}'\n",
    "\n",
    "    def __str__(self) -> str:\n",
    "        return f'{self.__name} by {self.__manufactory}. Features: {self.__dict__}'"
   ]
  },
  {
   "attachments": {},
   "cell_type": "markdown",
   "metadata": {},
   "source": [
    "## Run The Code"
   ]
  },
  {
   "cell_type": "code",
   "execution_count": 24,
   "metadata": {},
   "outputs": [
    {
     "name": "stdout",
     "output_type": "stream",
     "text": [
      "cloned object is: Accord by Honda. Features: {'_CarBaseModel__name': 'Accord', '_CarBaseModel__manufactory': 'Honda', 'engine_cc': '2000', 'turbo': True, 'color': 'White'}\n"
     ]
    }
   ],
   "source": [
    "# Define/Init Objects\n",
    "car1 = CarBaseModel(name='G63-AMG', manufactory='Mercedes-Benz')\n",
    "car2 = CarBaseModel(name='Accord', manufactory='Honda')\n",
    "car3 = CarBaseModel(name='Raptor', manufactory='Ford')\n",
    "\n",
    "# Init Prototype Class\n",
    "prototype = Prototype()\n",
    "prototype.add_object(key=car1.get_key(),object=car1)\n",
    "prototype.add_object(key=car2.get_key(),object=car2)\n",
    "prototype.add_object(key=car3.get_key(),object=car3)\n",
    "\n",
    "# Get the cloned object of second car plus some additional attributes\n",
    "cloned_object = prototype.get_clone(key=car2.get_key(), engine_cc='2000', turbo=True, color='White')\n",
    "\n",
    "print(f'cloned object is: {cloned_object}')"
   ]
  }
 ],
 "metadata": {
  "kernelspec": {
   "display_name": "erfan-lab",
   "language": "python",
   "name": "python3"
  },
  "language_info": {
   "codemirror_mode": {
    "name": "ipython",
    "version": 3
   },
   "file_extension": ".py",
   "mimetype": "text/x-python",
   "name": "python",
   "nbconvert_exporter": "python",
   "pygments_lexer": "ipython3",
   "version": "3.9.15"
  },
  "orig_nbformat": 4,
  "vscode": {
   "interpreter": {
    "hash": "56d4425fbebcd35bc374cc159d14c929230834d8c1a7594fd4b19337a0d834f1"
   }
  }
 },
 "nbformat": 4,
 "nbformat_minor": 2
}

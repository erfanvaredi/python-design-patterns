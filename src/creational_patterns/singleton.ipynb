{
 "cells": [
  {
   "attachments": {},
   "cell_type": "markdown",
   "metadata": {},
   "source": [
    "## We use Borg pattern for that"
   ]
  },
  {
   "cell_type": "code",
   "execution_count": 58,
   "metadata": {},
   "outputs": [],
   "source": [
    "# An object oriented form of dictionary\n",
    "class Borg:\n",
    "\n",
    "    # Attribute Dictionary\n",
    "    # If you change to __share_dict with 2 _ the variable becomes private\n",
    "    _shared_dict = {}\n",
    "\n",
    "    def __init__(self):\n",
    "\n",
    "        # Set __shared_dict as the class attribute dictionary\n",
    "        self.__dict__ = self._shared_dict"
   ]
  },
  {
   "attachments": {},
   "cell_type": "markdown",
   "metadata": {},
   "source": [
    "## My Custom Singleton Class"
   ]
  },
  {
   "cell_type": "code",
   "execution_count": 59,
   "metadata": {},
   "outputs": [],
   "source": [
    "# My custom singleton class\n",
    "class MySingleton(Borg):\n",
    "\n",
    "    def __init__(self, **kwargs) -> None:\n",
    "        super().__init__()\n",
    "\n",
    "        # update attribute dictionary\n",
    "        self._shared_dict.update(kwargs)\n",
    "    \n",
    "    def __str__(self) -> str:\n",
    "        return str(self._shared_dict)\n"
   ]
  },
  {
   "attachments": {},
   "cell_type": "markdown",
   "metadata": {},
   "source": [
    "## Run The Code"
   ]
  },
  {
   "cell_type": "code",
   "execution_count": 60,
   "metadata": {},
   "outputs": [
    {
     "name": "stdout",
     "output_type": "stream",
     "text": [
      "singleton_object_1:  {'key1': 'val1', 'whatever': 'whatever_val'}\n",
      "singleton_object_2:  {'key1': 'val1', 'whatever': 'whatever_val', 'Erfan': 'erf', 'ml': 'machine_learning', 'to_the': 'moon'}\n"
     ]
    }
   ],
   "source": [
    "singleton_object_1 = MySingleton(key1='val1', whatever='whatever_val')\n",
    "print('singleton_object_1: ', singleton_object_1)\n",
    "\n",
    "singleton_object_2 = MySingleton(Erfan='erf', ml='machine_learning', to_the='moon')\n",
    "print('singleton_object_2: ',singleton_object_2)"
   ]
  }
 ],
 "metadata": {
  "kernelspec": {
   "display_name": "erfan-lab",
   "language": "python",
   "name": "python3"
  },
  "language_info": {
   "codemirror_mode": {
    "name": "ipython",
    "version": 3
   },
   "file_extension": ".py",
   "mimetype": "text/x-python",
   "name": "python",
   "nbconvert_exporter": "python",
   "pygments_lexer": "ipython3",
   "version": "3.9.15"
  },
  "orig_nbformat": 4,
  "vscode": {
   "interpreter": {
    "hash": "56d4425fbebcd35bc374cc159d14c929230834d8c1a7594fd4b19337a0d834f1"
   }
  }
 },
 "nbformat": 4,
 "nbformat_minor": 2
}

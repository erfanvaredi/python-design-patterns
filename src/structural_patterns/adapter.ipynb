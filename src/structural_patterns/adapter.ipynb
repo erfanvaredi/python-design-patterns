{
 "cells": [
  {
   "attachments": {},
   "cell_type": "markdown",
   "metadata": {},
   "source": [
    "### Description"
   ]
  },
  {
   "attachments": {},
   "cell_type": "markdown",
   "metadata": {},
   "source": [
    "The Adapter pattern is a structural design pattern that allows objects with incompatible interfaces to work together. It is used when an existing class cannot be modified to meet the interface requirements of a new system, but a new class can be created to adapt the existing class to the new system."
   ]
  },
  {
   "attachments": {},
   "cell_type": "markdown",
   "metadata": {},
   "source": [
    "### Adapter Class"
   ]
  },
  {
   "cell_type": "code",
   "execution_count": 16,
   "metadata": {},
   "outputs": [],
   "source": [
    "class Adoptee:\n",
    "    def request(self):\n",
    "        return \"Adoptee: For example fetch price data from TheGraph protocol and Uniswap\"\n",
    "\n",
    "class Target:\n",
    "    def request(self):\n",
    "        return \"Target: For example fetch candle data from Binance\"\n",
    "\n",
    "class Adapter(Target):\n",
    "    def __init__(self, adoptee):\n",
    "        self.adoptee = adoptee\n",
    "        \n",
    "    def request(self):\n",
    "        return self.adoptee.request()"
   ]
  },
  {
   "attachments": {},
   "cell_type": "markdown",
   "metadata": {},
   "source": [
    "### Run The Code"
   ]
  },
  {
   "cell_type": "code",
   "execution_count": 17,
   "metadata": {},
   "outputs": [],
   "source": [
    "dataFetcherFromUniswap = Adoptee()\n",
    "dataFetcherFromBinance = Target()\n",
    "adapter = Adapter(dataFetcherFromUniswap)"
   ]
  },
  {
   "cell_type": "code",
   "execution_count": 18,
   "metadata": {},
   "outputs": [
    {
     "data": {
      "text/plain": [
       "'Adoptee: For example fetch price data from TheGraph protocol and Uniswap'"
      ]
     },
     "execution_count": 18,
     "metadata": {},
     "output_type": "execute_result"
    }
   ],
   "source": [
    "dataFetcherFromUniswap.request()"
   ]
  },
  {
   "cell_type": "code",
   "execution_count": 19,
   "metadata": {},
   "outputs": [
    {
     "data": {
      "text/plain": [
       "'Target: For example fetch candle data from Binance'"
      ]
     },
     "execution_count": 19,
     "metadata": {},
     "output_type": "execute_result"
    }
   ],
   "source": [
    "dataFetcherFromBinance.request()"
   ]
  },
  {
   "cell_type": "code",
   "execution_count": 20,
   "metadata": {},
   "outputs": [
    {
     "data": {
      "text/plain": [
       "'Adoptee: For example fetch price data from TheGraph protocol and Uniswap'"
      ]
     },
     "execution_count": 20,
     "metadata": {},
     "output_type": "execute_result"
    }
   ],
   "source": [
    "adapter.request()"
   ]
  }
 ],
 "metadata": {
  "kernelspec": {
   "display_name": "erfan-lab",
   "language": "python",
   "name": "python3"
  },
  "language_info": {
   "codemirror_mode": {
    "name": "ipython",
    "version": 3
   },
   "file_extension": ".py",
   "mimetype": "text/x-python",
   "name": "python",
   "nbconvert_exporter": "python",
   "pygments_lexer": "ipython3",
   "version": "3.9.15"
  },
  "orig_nbformat": 4,
  "vscode": {
   "interpreter": {
    "hash": "56d4425fbebcd35bc374cc159d14c929230834d8c1a7594fd4b19337a0d834f1"
   }
  }
 },
 "nbformat": 4,
 "nbformat_minor": 2
}

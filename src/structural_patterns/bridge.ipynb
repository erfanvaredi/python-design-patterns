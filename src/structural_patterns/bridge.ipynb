{
 "cells": [
  {
   "attachments": {},
   "cell_type": "markdown",
   "metadata": {},
   "source": [
    "### Description"
   ]
  },
  {
   "attachments": {},
   "cell_type": "markdown",
   "metadata": {},
   "source": [
    "This script below demonstrates the **bridge pattern** as a **structural design pattern**.\n",
    "The **Circle** class is the abstraction and the **DrawingAPIOne** and **DrawingAPITwo** classes are the implementations. \n",
    "The **Circle** class takes in a drawing API during initialization and uses that API to draw the circle. This allows for the separation of the abstraction (Circle) from the implementation (DrawingAPIOne and DrawingAPITwo) and the ability to change the implementation at runtime."
   ]
  },
  {
   "attachments": {},
   "cell_type": "markdown",
   "metadata": {},
   "source": [
    "### Imports"
   ]
  },
  {
   "cell_type": "code",
   "execution_count": 36,
   "metadata": {},
   "outputs": [],
   "source": [
    "from datetime import datetime \n",
    "from datetime import timezone"
   ]
  },
  {
   "attachments": {},
   "cell_type": "markdown",
   "metadata": {},
   "source": [
    "### Implementation Classes"
   ]
  },
  {
   "cell_type": "code",
   "execution_count": 37,
   "metadata": {},
   "outputs": [],
   "source": [
    "class BinanceDataProvider:\n",
    "    def get_candles(self, date_from:datetime, date_end:datetime, coin_name:str):\n",
    "        print(f\"BinanceFetcher: candles of {coin_name} have been fetched from {date_from.date()} to {date_end.date()}\")\n",
    "\n",
    "class UniswapDataProvider:\n",
    "    def get_candles(self, date_from:datetime, date_end:datetime, coin_name:str):\n",
    "        print(f\"UniswapFetcher: candles of {coin_name} have been fetched from {date_from.date()} to {date_end.date()}\")\n"
   ]
  },
  {
   "attachments": {},
   "cell_type": "markdown",
   "metadata": {},
   "source": [
    "### Abstraction Class"
   ]
  },
  {
   "cell_type": "code",
   "execution_count": 38,
   "metadata": {},
   "outputs": [],
   "source": [
    "class CandleData:\n",
    "    def __init__(self, date_from:datetime, date_end:datetime, coin_name:str, api):\n",
    "        self.__date_from = date_from\n",
    "        self.__date_end = date_end\n",
    "        self.__coin_name = coin_name\n",
    "        self.api = api\n",
    "\n",
    "    def fetch_data(self):\n",
    "        self.api.get_candles(date_from=self.__date_from, date_end=self.__date_end, coin_name=self.__coin_name)\n",
    "\n",
    "    def change_date(self, date_from:datetime, date_end:datetime):\n",
    "        self.__date_from = date_from\n",
    "        self.__date_end = date_end\n",
    "\n",
    "    def change_coin(self, coin_name:str):\n",
    "        self.__coin_name = coin_name\n"
   ]
  },
  {
   "attachments": {},
   "cell_type": "markdown",
   "metadata": {},
   "source": [
    "### Run The Code"
   ]
  },
  {
   "cell_type": "code",
   "execution_count": 39,
   "metadata": {},
   "outputs": [
    {
     "name": "stdout",
     "output_type": "stream",
     "text": [
      "BinanceFetcher: candles of BTC have been fetched from 2022-12-01 to 2023-01-10\n"
     ]
    }
   ],
   "source": [
    "# create a CandleData using Binance API\n",
    "candle_data_1 = CandleData(date_from=datetime(year=2022, month=12,day=1, tzinfo=timezone.utc), \n",
    "                            date_end=datetime(year=2023, month=1,day=10, tzinfo=timezone.utc), \n",
    "                            coin_name='BTC', \n",
    "                            api=BinanceDataProvider())\n",
    "candle_data_1.fetch_data()"
   ]
  },
  {
   "cell_type": "code",
   "execution_count": 40,
   "metadata": {},
   "outputs": [
    {
     "name": "stdout",
     "output_type": "stream",
     "text": [
      "UniswapFetcher: candles of ETH have been fetched from 2023-01-15 to 2023-01-21\n"
     ]
    }
   ],
   "source": [
    "# create a CandleData using Uniswap API\n",
    "candle_data_2 = CandleData(date_from=datetime(year=2023, month=1,day=15, tzinfo=timezone.utc), \n",
    "                            date_end=datetime.utcnow(), \n",
    "                            coin_name='ETH', \n",
    "                            api=UniswapDataProvider())\n",
    "candle_data_2.fetch_data()"
   ]
  },
  {
   "cell_type": "code",
   "execution_count": 41,
   "metadata": {},
   "outputs": [
    {
     "name": "stdout",
     "output_type": "stream",
     "text": [
      "UniswapFetcher: candles of BTC have been fetched from 2022-12-01 to 2023-01-10\n"
     ]
    }
   ],
   "source": [
    "# change the candle_data_1 api to use Uniswap API\n",
    "candle_data_1.api = UniswapDataProvider()\n",
    "candle_data_1.fetch_data()"
   ]
  }
 ],
 "metadata": {
  "kernelspec": {
   "display_name": "erfan-lab",
   "language": "python",
   "name": "python3"
  },
  "language_info": {
   "codemirror_mode": {
    "name": "ipython",
    "version": 3
   },
   "file_extension": ".py",
   "mimetype": "text/x-python",
   "name": "python",
   "nbconvert_exporter": "python",
   "pygments_lexer": "ipython3",
   "version": "3.9.15"
  },
  "orig_nbformat": 4,
  "vscode": {
   "interpreter": {
    "hash": "56d4425fbebcd35bc374cc159d14c929230834d8c1a7594fd4b19337a0d834f1"
   }
  }
 },
 "nbformat": 4,
 "nbformat_minor": 2
}

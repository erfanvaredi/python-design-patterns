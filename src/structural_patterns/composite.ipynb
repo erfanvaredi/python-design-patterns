{
 "cells": [
  {
   "attachments": {},
   "cell_type": "markdown",
   "metadata": {},
   "source": [
    "## Define The Leaf Object Interface"
   ]
  },
  {
   "cell_type": "code",
   "execution_count": 28,
   "metadata": {},
   "outputs": [],
   "source": [
    "# Interface of the methods\n",
    "class IComponent(object):\n",
    "    def __init__(self, *args, **kwargs):\n",
    "        pass\n",
    "\n",
    "    def function(self):\n",
    "        pass"
   ]
  },
  {
   "attachments": {},
   "cell_type": "markdown",
   "metadata": {},
   "source": [
    "## Define Composite Class And Child Class"
   ]
  },
  {
   "cell_type": "code",
   "execution_count": 29,
   "metadata": {},
   "outputs": [],
   "source": [
    "# Child object or leaf object\n",
    "class Child(IComponent):\n",
    "    def __init__(self, *args, **kwargs):\n",
    "        super().__init__(*args, **kwargs)\n",
    "\n",
    "        self.position=kwargs['position']\n",
    "        \n",
    "    def function(self):\n",
    "        return f'the child {self.position} does tasks'"
   ]
  },
  {
   "cell_type": "code",
   "execution_count": 30,
   "metadata": {},
   "outputs": [],
   "source": [
    "# Composite object, it also has add/remove child function as well\n",
    "class Composite(IComponent):\n",
    "    def __init__(self, *args, **kwargs):\n",
    "        super().__init__(*args, **kwargs)\n",
    "\n",
    "        self.position=kwargs['position']\n",
    "        self.children=[]\n",
    "\n",
    "    def add_child(self,child):\n",
    "        self.children.append(child)\n",
    "\n",
    "    def remove_child(self, child):\n",
    "        self.children.remove(child)\n",
    "\n",
    "    def function(self):\n",
    "        list_children_position = []\n",
    "        for child in self.children:\n",
    "            list_children_position.append(child.position)\n",
    "        return f'the composite {self.position} manages [{\",\".join(list_children_position)}]'"
   ]
  },
  {
   "attachments": {},
   "cell_type": "markdown",
   "metadata": {},
   "source": [
    "## Run The Code"
   ]
  },
  {
   "attachments": {},
   "cell_type": "markdown",
   "metadata": {},
   "source": [
    "### Create Composites And Children"
   ]
  },
  {
   "cell_type": "code",
   "execution_count": 31,
   "metadata": {},
   "outputs": [],
   "source": [
    "# Assume we have a company with 1 CTO and 3 managers and each manager has 2 developer\n",
    "# Create one composite class for ceo because he/she manages some managers\n",
    "ceo = Composite(position='CEO')\n",
    "\n",
    "# Create one composite class per manager\n",
    "manager_A = Composite(position='Manager A')\n",
    "manager_B = Composite(position='Manager B')\n",
    "manager_C = Composite(position='Manager C')\n",
    "\n",
    "# Create children (Child) classes\n",
    "developer_A1 = Child(position='Python Developer')\n",
    "developer_A2 = Child(position='Data Engineer')\n",
    "developer_B1 = Child(position='Data Scientist')\n",
    "developer_B2 = Child(position='MLOps Engineer')\n",
    "developer_C1 = Child(position='Frontend Developer')\n",
    "developer_C2 = Child(position='QA')\n",
    "\n",
    "# Assign developers of manager A\n",
    "manager_A.add_child(developer_A1)\n",
    "manager_A.add_child(developer_A2)\n",
    "\n",
    "# Assign developers of manager B\n",
    "manager_B.add_child(developer_B1)\n",
    "manager_B.add_child(developer_B2)\n",
    "\n",
    "# Assign developers of manager C\n",
    "manager_C.add_child(developer_C1)\n",
    "manager_C.add_child(developer_C2)\n",
    "\n",
    "# Assign managers to their ceo\n",
    "ceo.add_child(manager_A)\n",
    "ceo.add_child(manager_B)\n",
    "ceo.add_child(manager_C)\n"
   ]
  },
  {
   "attachments": {},
   "cell_type": "markdown",
   "metadata": {},
   "source": [
    "### Print The Results"
   ]
  },
  {
   "cell_type": "code",
   "execution_count": 32,
   "metadata": {},
   "outputs": [
    {
     "name": "stdout",
     "output_type": "stream",
     "text": [
      "composite object of ceo:CEO do the composite CEO manages [Manager A,Manager B,Manager C]\n",
      "--------------------------------------------------------------\n",
      "composite object of manager_A:Manager A do the composite Manager A manages [Python Developer,Data Engineer]\n",
      "composite object of manager_B:Manager B do the composite Manager B manages [Data Scientist,MLOps Engineer]\n",
      "composite object of manager_C:Manager C do the composite Manager C manages [Frontend Developer,QA]\n",
      "--------------------------------------------------------------\n",
      "child object of developer_A1:Python Developer do the child Python Developer does tasks\n",
      "child object of developer_A2:Data Engineer do the child Data Engineer does tasks\n",
      "child object of developer_B1:Data Scientist do the child Data Scientist does tasks\n",
      "child object of developer_B2:MLOps Engineer do the child MLOps Engineer does tasks\n",
      "child object of developer_C1:Frontend Developer do the child Frontend Developer does tasks\n",
      "child object of developer_C2:QA do the child QA does tasks\n"
     ]
    }
   ],
   "source": [
    "print(f'composite object of ceo:{ceo.position} do {ceo.function()}')\n",
    "\n",
    "print('--------------------------------------------------------------')\n",
    "\n",
    "print(f'composite object of manager_A:{manager_A.position} do {manager_A.function()}')\n",
    "print(f'composite object of manager_B:{manager_B.position} do {manager_B.function()}')\n",
    "print(f'composite object of manager_C:{manager_C.position} do {manager_C.function()}')\n",
    "\n",
    "print('--------------------------------------------------------------')\n",
    "\n",
    "print(f'child object of developer_A1:{developer_A1.position} do {developer_A1.function()}')\n",
    "print(f'child object of developer_A2:{developer_A2.position} do {developer_A2.function()}')\n",
    "print(f'child object of developer_B1:{developer_B1.position} do {developer_B1.function()}')\n",
    "print(f'child object of developer_B2:{developer_B2.position} do {developer_B2.function()}')\n",
    "print(f'child object of developer_C1:{developer_C1.position} do {developer_C1.function()}')\n",
    "print(f'child object of developer_C2:{developer_C2.position} do {developer_C2.function()}')"
   ]
  },
  {
   "attachments": {},
   "cell_type": "markdown",
   "metadata": {},
   "source": [
    "### An Example Of Children removal"
   ]
  },
  {
   "cell_type": "code",
   "execution_count": 33,
   "metadata": {},
   "outputs": [
    {
     "name": "stdout",
     "output_type": "stream",
     "text": [
      "composite object of manager_B:Manager B do the composite Manager B manages [Data Scientist]\n"
     ]
    }
   ],
   "source": [
    "# Removing MLOps Engineer from Manager B\n",
    "manager_B.remove_child(developer_B2)\n",
    "print(f'composite object of manager_B:{manager_B.position} do {manager_B.function()}')"
   ]
  }
 ],
 "metadata": {
  "kernelspec": {
   "display_name": "erfan-lab",
   "language": "python",
   "name": "python3"
  },
  "language_info": {
   "codemirror_mode": {
    "name": "ipython",
    "version": 3
   },
   "file_extension": ".py",
   "mimetype": "text/x-python",
   "name": "python",
   "nbconvert_exporter": "python",
   "pygments_lexer": "ipython3",
   "version": "3.9.15"
  },
  "orig_nbformat": 4,
  "vscode": {
   "interpreter": {
    "hash": "56d4425fbebcd35bc374cc159d14c929230834d8c1a7594fd4b19337a0d834f1"
   }
  }
 },
 "nbformat": 4,
 "nbformat_minor": 2
}

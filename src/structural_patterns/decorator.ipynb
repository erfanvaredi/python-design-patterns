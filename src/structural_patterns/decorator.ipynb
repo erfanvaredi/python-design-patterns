{
 "cells": [
  {
   "cell_type": "code",
   "execution_count": 156,
   "metadata": {},
   "outputs": [],
   "source": [
    "from functools import wraps\n",
    "import json"
   ]
  },
  {
   "attachments": {},
   "cell_type": "markdown",
   "metadata": {},
   "source": [
    "## Create Decorator Function"
   ]
  },
  {
   "cell_type": "code",
   "execution_count": 157,
   "metadata": {},
   "outputs": [],
   "source": [
    "def repeat_function(num_repeats = 2):\n",
    "    '''repeat_decorator should return a function that's a decorator'''\n",
    "    def inner_decorator(fn):\n",
    "        @wraps(fn)\n",
    "        def decorated_fn():\n",
    "            for i in range(num_repeats):\n",
    "                fn()\n",
    "        # return the new function\n",
    "        return decorated_fn\n",
    "    # return the decorator that actually takes the function in as the input\n",
    "    return inner_decorator"
   ]
  },
  {
   "cell_type": "code",
   "execution_count": 158,
   "metadata": {},
   "outputs": [],
   "source": [
    "def uppercase(fn):\n",
    "    '''The decorator tries to upper case the result of the function'''\n",
    "    @wraps(fn)\n",
    "    def wrapped(*args, **kwargs):\n",
    "        result = fn(*args, **kwargs)\n",
    "        if isinstance(result, list):\n",
    "            return [x.upper() for x in result]\n",
    "        return result.upper()\n",
    "    return wrapped"
   ]
  },
  {
   "cell_type": "code",
   "execution_count": 159,
   "metadata": {},
   "outputs": [],
   "source": [
    "def to_json(fn):\n",
    "    '''The decorator tries to make json from the output of the method'''\n",
    "    @wraps(fn)\n",
    "    def wrapped(*args, **kwargs):\n",
    "        result = fn(*args, **kwargs)\n",
    "        if isinstance(result, dict):\n",
    "            return json.dumps(result,indent=2)\n",
    "        elif isinstance(result, str):\n",
    "            return result\n",
    "        else:\n",
    "            raise NotImplementedError('function\\'s output type is not defined in the decorator')\n",
    "    return wrapped"
   ]
  },
  {
   "attachments": {},
   "cell_type": "markdown",
   "metadata": {},
   "source": [
    "## Custom Function With Custom Decorator"
   ]
  },
  {
   "cell_type": "code",
   "execution_count": 160,
   "metadata": {},
   "outputs": [],
   "source": [
    "@to_json\n",
    "def make_dict():\n",
    "\t\"\"\"This function returns a dict\"\"\"\n",
    "\treturn {'key':1, 'key2':2, 'key3':'str'}\n",
    "\n",
    "@to_json\n",
    "def make_str():\n",
    "\t\"\"\"This function returns a string\"\"\"\n",
    "\treturn 'some string'\n",
    "\n",
    "@uppercase\n",
    "def make_title():\n",
    "\t\"\"\"This function create a string title\"\"\"\n",
    "\treturn 'some random title'\n",
    "\n",
    "@repeat_function(num_repeats=3)\n",
    "def say_hi():\n",
    "\t\"\"\"This function print hi\"\"\"\n",
    "\tprint('hi')"
   ]
  },
  {
   "attachments": {},
   "cell_type": "markdown",
   "metadata": {},
   "source": [
    "## Run The Code"
   ]
  },
  {
   "cell_type": "code",
   "execution_count": 161,
   "metadata": {},
   "outputs": [
    {
     "name": "stdout",
     "output_type": "stream",
     "text": [
      "make_dict()='{\\n  \"key\": 1,\\n  \"key2\": 2,\\n  \"key3\": \"str\"\\n}'\n",
      "make_str()='some string'\n",
      "make_title()='SOME RANDOM TITLE'\n",
      "hi\n",
      "hi\n",
      "hi\n",
      "say_hi()=None\n",
      "-------------------------------------\n",
      "make_dict.__name__='make_dict'\n",
      "make_str.__name__='make_str'\n",
      "make_title.__name__='make_title'\n",
      "say_hi.__name__='say_hi'\n",
      "-------------------------------------\n",
      "make_dict.__doc__='This function returns a dict'\n",
      "make_str.__doc__='This function returns a string'\n",
      "make_title.__doc__='This function create a string title'\n",
      "say_hi.__doc__='This function print hi'\n"
     ]
    }
   ],
   "source": [
    "#Check the result of decorating\n",
    "print(f'{make_dict()=}')\n",
    "print(f'{make_str()=}')\n",
    "print(f'{make_title()=}')\n",
    "print(f'{say_hi()=}')\n",
    "\n",
    "print('-------------------------------------')\n",
    "#Check if the function name is still the same name of the function being decorated\n",
    "print(f'{make_dict.__name__=}')\n",
    "print(f'{make_str.__name__=}')\n",
    "print(f'{make_title.__name__=}')\n",
    "print(f'{say_hi.__name__=}')\n",
    "\n",
    "print('-------------------------------------')\n",
    "#Check if the docstring is still the same as that of the function being decorated\n",
    "print(f'{make_dict.__doc__=}')\n",
    "print(f'{make_str.__doc__=}')\n",
    "print(f'{make_title.__doc__=}')\n",
    "print(f'{say_hi.__doc__=}')"
   ]
  }
 ],
 "metadata": {
  "kernelspec": {
   "display_name": "erfan-lab",
   "language": "python",
   "name": "python3"
  },
  "language_info": {
   "codemirror_mode": {
    "name": "ipython",
    "version": 3
   },
   "file_extension": ".py",
   "mimetype": "text/x-python",
   "name": "python",
   "nbconvert_exporter": "python",
   "pygments_lexer": "ipython3",
   "version": "3.9.15 | packaged by conda-forge | (main, Nov 22 2022, 08:48:25) \n[Clang 14.0.6 ]"
  },
  "orig_nbformat": 4,
  "vscode": {
   "interpreter": {
    "hash": "56d4425fbebcd35bc374cc159d14c929230834d8c1a7594fd4b19337a0d834f1"
   }
  }
 },
 "nbformat": 4,
 "nbformat_minor": 2
}

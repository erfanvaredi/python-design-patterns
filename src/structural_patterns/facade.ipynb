{
 "cells": [
  {
   "attachments": {},
   "cell_type": "markdown",
   "metadata": {},
   "source": [
    "### Description"
   ]
  },
  {
   "attachments": {},
   "cell_type": "markdown",
   "metadata": {},
   "source": [
    "The **Facade pattern** is a **structural design pattern** that provides a simplified interface to a complex system of classes or subsystem. The Facade class defines a higher-level interface that makes the subsystem easier to use. In this example, the Facade class has a simplified make_decision() method that calls the fetch_data() method on the DataProvider and preprocess() on Preprocessing and predict() on Prediction classes. This makes it easier for client code to use the subsystem without having to interact with it directly."
   ]
  },
  {
   "attachments": {},
   "cell_type": "markdown",
   "metadata": {},
   "source": [
    "### Import"
   ]
  },
  {
   "cell_type": "code",
   "execution_count": 2,
   "metadata": {},
   "outputs": [],
   "source": [
    "from random import randint"
   ]
  },
  {
   "attachments": {},
   "cell_type": "markdown",
   "metadata": {},
   "source": [
    "### Operational Classes"
   ]
  },
  {
   "cell_type": "code",
   "execution_count": 3,
   "metadata": {},
   "outputs": [],
   "source": [
    "\n",
    "class DataProvider:\n",
    "    def fetch_data(self) -> dict:\n",
    "        print('DataProvider: data have been fetched successfully')\n",
    "        return {'data':'candles_data'}\n",
    "\n",
    "class Preprocessing:\n",
    "    def preprocess(self, input:dict) -> dict:\n",
    "        print(f'Preprocessing: [{input[\"data\"]}] have been preprocessed successfully')\n",
    "        return {'data':'indicators'}\n",
    "\n",
    "class Prediction:\n",
    "    def predict(self, input:dict) -> str:\n",
    "        print(f'Prediction: models used [{input[\"data\"]}] for prediction and predict BUY')\n",
    "        return 'BUY'\n"
   ]
  },
  {
   "attachments": {},
   "cell_type": "markdown",
   "metadata": {},
   "source": [
    "### Facade Class"
   ]
  },
  {
   "cell_type": "code",
   "execution_count": 4,
   "metadata": {},
   "outputs": [],
   "source": [
    "class Facade:\n",
    "    def __init__(self):\n",
    "        self.__data_provider = DataProvider()\n",
    "        self.__preprocess = Preprocessing()\n",
    "        self.__predictor = Prediction()\n",
    "\n",
    "    def make_decision(self):\n",
    "        data_provider_result = self.__data_provider.fetch_data()\n",
    "        preprocessor_results = self.__preprocess.preprocess(input=data_provider_result)\n",
    "        self.__predictor.predict(input=preprocessor_results)"
   ]
  },
  {
   "attachments": {},
   "cell_type": "markdown",
   "metadata": {},
   "source": [
    "### Run The Code"
   ]
  },
  {
   "cell_type": "code",
   "execution_count": 5,
   "metadata": {},
   "outputs": [
    {
     "name": "stdout",
     "output_type": "stream",
     "text": [
      "DataProvider: data have been fetched successfully\n",
      "Preprocessing: [candles_data] have been preprocessed successfully\n",
      "Prediction: models used [indicators] for prediction and predict BUY\n"
     ]
    }
   ],
   "source": [
    "facade = Facade()\n",
    "facade.make_decision()"
   ]
  }
 ],
 "metadata": {
  "kernelspec": {
   "display_name": "erfan-lab",
   "language": "python",
   "name": "python3"
  },
  "language_info": {
   "codemirror_mode": {
    "name": "ipython",
    "version": 3
   },
   "file_extension": ".py",
   "mimetype": "text/x-python",
   "name": "python",
   "nbconvert_exporter": "python",
   "pygments_lexer": "ipython3",
   "version": "3.9.15"
  },
  "orig_nbformat": 4,
  "vscode": {
   "interpreter": {
    "hash": "56d4425fbebcd35bc374cc159d14c929230834d8c1a7594fd4b19337a0d834f1"
   }
  }
 },
 "nbformat": 4,
 "nbformat_minor": 2
}

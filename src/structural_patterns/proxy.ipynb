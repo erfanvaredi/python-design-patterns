{
 "cells": [
  {
   "attachments": {},
   "cell_type": "markdown",
   "metadata": {},
   "source": [
    "### Description"
   ]
  },
  {
   "attachments": {},
   "cell_type": "markdown",
   "metadata": {},
   "source": [
    "The **Proxy pattern** is a **structural design pattern** that provides a surrogate object to control access to another object, known as the \"subject\". The proxy class, in this example ProxyAccess, controls access to the Subject class (RequesterToBackend) by implementing the same interface as the Subject class (RequesterToBackend) and forwarding requests to it. It can also add additional functionality such as access control, logging or caching. In this example, ProxyAccess class has a request() method which calls check_access() method before forwarding the request to the Subject class, this way it can control the access to the subject."
   ]
  },
  {
   "attachments": {},
   "cell_type": "markdown",
   "metadata": {},
   "source": [
    "### Proxy Class: Check the access before sending the request"
   ]
  },
  {
   "cell_type": "code",
   "execution_count": 7,
   "metadata": {},
   "outputs": [],
   "source": [
    "class ProxyAccess:\n",
    "    def __init__(self, requester):\n",
    "        self.__requester = requester\n",
    "\n",
    "    def request(self):\n",
    "        if self.check_access():\n",
    "            print(\"ProxyAccess: Access Approved\")\n",
    "            self.__requester.request()\n",
    "        else:\n",
    "            print(\"ProxyAccess: Access Denied\")\n",
    "\n",
    "    def check_access(self):\n",
    "        # check access here\n",
    "        return True"
   ]
  },
  {
   "attachments": {},
   "cell_type": "markdown",
   "metadata": {},
   "source": [
    "### Subject Class"
   ]
  },
  {
   "cell_type": "code",
   "execution_count": 8,
   "metadata": {},
   "outputs": [],
   "source": [
    "class RequesterToBackend:\n",
    "    def request(self):\n",
    "        print(\"RequesterToBackend: Subject Request\")"
   ]
  },
  {
   "attachments": {},
   "cell_type": "markdown",
   "metadata": {},
   "source": [
    "### Run The Code"
   ]
  },
  {
   "cell_type": "code",
   "execution_count": 9,
   "metadata": {},
   "outputs": [
    {
     "name": "stdout",
     "output_type": "stream",
     "text": [
      "ProxyAccess: Access Approved\n",
      "RequesterToBackend: Subject Request\n"
     ]
    }
   ],
   "source": [
    "requester = RequesterToBackend()\n",
    "proxy = ProxyAccess(requester=requester)\n",
    "proxy.request()"
   ]
  }
 ],
 "metadata": {
  "kernelspec": {
   "display_name": "erfan-lab",
   "language": "python",
   "name": "python3"
  },
  "language_info": {
   "codemirror_mode": {
    "name": "ipython",
    "version": 3
   },
   "file_extension": ".py",
   "mimetype": "text/x-python",
   "name": "python",
   "nbconvert_exporter": "python",
   "pygments_lexer": "ipython3",
   "version": "3.9.15"
  },
  "orig_nbformat": 4,
  "vscode": {
   "interpreter": {
    "hash": "56d4425fbebcd35bc374cc159d14c929230834d8c1a7594fd4b19337a0d834f1"
   }
  }
 },
 "nbformat": 4,
 "nbformat_minor": 2
}
